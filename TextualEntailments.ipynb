{
 "cells": [
  {
   "cell_type": "code",
   "execution_count": 1,
   "metadata": {
    "id": "UmU4RpaGsfVD"
   },
   "outputs": [],
   "source": [
    "from os import listdir\n",
    "from tqdm import tqdm\n",
    "import xml.etree.ElementTree as ET\n",
    "# import modules & set up logging\n",
    "import numpy as np\n",
    "from gensim.corpora import Dictionary\n",
    "from gensim.parsing.preprocessing import remove_stopwords\n",
    "# Load word2vec pre-train model\n",
    "import gensim\n",
    "import gensim.downloader as api\n",
    "import gensim.models.keyedvectors as word2vec\n",
    "import torch\n",
    "import torch.nn as nn\n",
    "import torch.nn.functional as F\n",
    "import torch.optim as optim"
   ]
  },
  {
   "cell_type": "code",
   "execution_count": 2,
   "metadata": {
    "colab": {
     "base_uri": "https://localhost:8080/"
    },
    "id": "q37qRXUiATzX",
    "outputId": "261bd1c2-0a39-4a66-a42f-305aa0c25ddb"
   },
   "outputs": [
    {
     "data": {
      "text/plain": [
       "\"from google.colab import drive\\ndrive.mount('/content/drive')\""
      ]
     },
     "execution_count": 2,
     "metadata": {},
     "output_type": "execute_result"
    }
   ],
   "source": [
    "\"\"\"from google.colab import drive\n",
    "drive.mount('/content/drive')\"\"\""
   ]
  },
  {
   "cell_type": "code",
   "execution_count": 3,
   "metadata": {
    "id": "uEylkZsdi8Gk"
   },
   "outputs": [],
   "source": [
    "use_POS = False"
   ]
  },
  {
   "cell_type": "markdown",
   "metadata": {
    "id": "z8aem3hCoZ1Y"
   },
   "source": [
    "## Get all the sentences (text) and the correspondent entailments (hypothesis) from the dataset"
   ]
  },
  {
   "cell_type": "code",
   "execution_count": 4,
   "metadata": {
    "id": "c3DruEiwXhnY"
   },
   "outputs": [],
   "source": [
    "PATH = \"./rteFormatData\""
   ]
  },
  {
   "cell_type": "code",
   "execution_count": 5,
   "metadata": {
    "id": "UJ0iMogK1yBk"
   },
   "outputs": [],
   "source": [
    "files = [f for f in listdir(PATH)]\n",
    "trees = []\n",
    "entailment_pairs = []\n",
    "sentences = []\n",
    "\n",
    "for file in files:\n",
    "    trees.append(ET.parse(PATH+'/'+file))\n",
    "\n",
    "for tree in trees:\n",
    "    root = tree.getroot()\n",
    "    for pair in root.findall('pair'):\n",
    "        if pair.attrib['entailment'] == 'ENTAILMENT':\n",
    "            text = pair.find('t').text.lower()\n",
    "            hypothesis = pair.find('h').text.lower()\n",
    "            sentences.append(text)\n",
    "            sentences.append(hypothesis)\n",
    "            entailment_pairs.append((text, hypothesis))\n",
    "\n",
    "# Remove duplicates\n",
    "entailment_pairs = list(set([i for i in entailment_pairs]))"
   ]
  },
  {
   "cell_type": "markdown",
   "metadata": {
    "id": "zefEdeVZ3O9I"
   },
   "source": [
    "## Load a pre-trained model for evaluation"
   ]
  },
  {
   "cell_type": "code",
   "execution_count": 12,
   "metadata": {
    "id": "exDGC0SNl1o9"
   },
   "outputs": [
    {
     "name": "stdout",
     "output_type": "stream",
     "text": [
      "[=================================================-] 99.9% 1661.7/1662.8MB downloaded\n"
     ]
    }
   ],
   "source": [
    "path = api.load(\"word2vec-google-news-300\", return_path=True)\n",
    "gn_model = word2vec.KeyedVectors.load_word2vec_format(path, binary=True)\n",
    "#weights = torch.FloatTensor(gn_model.wv.vectors)"
   ]
  },
  {
   "cell_type": "code",
   "execution_count": 31,
   "metadata": {},
   "outputs": [
    {
     "data": {
      "text/plain": [
       "'C:\\\\Users\\\\aless/gensim-data\\\\word2vec-google-news-300\\\\word2vec-google-news-300.gz'"
      ]
     },
     "execution_count": 31,
     "metadata": {},
     "output_type": "execute_result"
    }
   ],
   "source": [
    "path"
   ]
  },
  {
   "cell_type": "markdown",
   "metadata": {
    "id": "L2pdAw9kpJU_"
   },
   "source": [
    "## Get linguistic features with Spacy"
   ]
  },
  {
   "cell_type": "code",
   "execution_count": 14,
   "metadata": {
    "id": "ARx8daMypFyJ"
   },
   "outputs": [],
   "source": [
    "import spacy\n",
    "from spacy import displacy\n",
    "\n",
    "nlp = spacy.load(\"en_core_web_sm\")"
   ]
  },
  {
   "cell_type": "markdown",
   "metadata": {
    "id": "8Uww5yMM3JB5"
   },
   "source": [
    "### Generate token word_POS"
   ]
  },
  {
   "cell_type": "code",
   "execution_count": 15,
   "metadata": {
    "id": "_kkN2rAvheAk"
   },
   "outputs": [],
   "source": [
    "def add_POS(entailment_pairs):\n",
    "    entailment_pairs_pos = []\n",
    "    sentences_pos = []\n",
    "    for i in tqdm(range(len(entailment_pairs))):\n",
    "        pair = []\n",
    "        for j in range(2): \n",
    "            doc = nlp(entailment_pairs[i][j].lower())\n",
    "            pos = [token.pos_ for token in doc]\n",
    "            sentences_pos.append(list(map('_'.join, zip(doc.text.split(), pos))))\n",
    "            pair.append(list(map('_'.join, zip(doc.text.split(), pos))))\n",
    "        entailment_pairs_pos.append(pair)\n",
    "\n",
    "    return entailment_paris_pos, sentences_pos\n",
    "\n",
    "if use_POS:\n",
    "    entailment_pairs, sentences = add_POS(entailment_pairs)"
   ]
  },
  {
   "cell_type": "markdown",
   "metadata": {
    "id": "TQ8_dCm5Uep5"
   },
   "source": [
    "## Generate corpus based on dataset sentences"
   ]
  },
  {
   "cell_type": "code",
   "execution_count": 16,
   "metadata": {
    "id": "sWfBumgk5C6O"
   },
   "outputs": [],
   "source": [
    "# train word2vec on the two sentences\n",
    "V = Dictionary([['<#S>','<#E>','<PAD>']])\n",
    "for sentence in sentences:\n",
    "    V.add_documents([sentence.split()])"
   ]
  },
  {
   "cell_type": "code",
   "execution_count": 17,
   "metadata": {
    "id": "sIdzvjS0vrUY"
   },
   "outputs": [],
   "source": [
    "def sentence_decoration(sentence):\n",
    "    #return sentence.lower().split()\n",
    "    return ['<#S>'] + sentence.lower().split() + ['<#E>']"
   ]
  },
  {
   "cell_type": "code",
   "execution_count": 18,
   "metadata": {
    "id": "yfjHbRYiSWMM"
   },
   "outputs": [],
   "source": [
    "training = []\n",
    "\n",
    "for text, hypothesis in entailment_pairs:\n",
    "    #text = text.lower().split()\n",
    "    text = sentence_decoration(text)\n",
    "    #hypothesis = hypothesis.lower().split()\n",
    "    hypothesis = sentence_decoration(hypothesis)\n",
    "    padding = len(text) if len(text) > len(hypothesis) else len(hypothesis)\n",
    "  \n",
    "    if len(text) < padding:\n",
    "        text = text + ['<PAD>'] * (padding-len(text))\n",
    "    elif len(hypothesis) < padding:\n",
    "        hypothesis = hypothesis + ['<PAD>'] * (padding-len(hypothesis))\n",
    "    \n",
    "    training.append((text, hypothesis))"
   ]
  },
  {
   "cell_type": "markdown",
   "metadata": {
    "id": "kpnO5Eab7TJX"
   },
   "source": [
    "## LSTM model"
   ]
  },
  {
   "cell_type": "code",
   "execution_count": 19,
   "metadata": {
    "id": "jmZQJ4f977TB"
   },
   "outputs": [],
   "source": [
    "class LSTMlm(nn.Module):\n",
    "    def __init__(self, embedding_dim, hidden_dim, vocab_size, target_size):\n",
    "        super(LSTMlm, self).__init__()\n",
    "        self.hidden_dim = hidden_dim\n",
    "        self.word_embeddings = nn.Embedding(vocab_size, embedding_dim, padding_idx=0)\n",
    "\n",
    "        # The LSTM takes word embeddings as inputs, and outputs hidden states\n",
    "        # with dimensionality hidden_dim.\n",
    "        self.lstm = nn.LSTM(embedding_dim, hidden_dim,num_layers=3, batch_first=False)\n",
    "\n",
    "        # The linear layer that maps from hidden state space to target space\n",
    "        self.hidden2tag = nn.Linear(hidden_dim, target_size)\n",
    "\n",
    "    def forward(self, sentence):\n",
    "        embeds = self.word_embeddings(sentence)\n",
    "        lstm_out, _ = self.lstm(embeds.view(len(sentence), 1, -1))\n",
    "        tag_space = self.hidden2tag(lstm_out.view(len(sentence), -1))\n",
    "        tag_scores = F.log_softmax(tag_space, dim=1)\n",
    "        return tag_scores"
   ]
  },
  {
   "cell_type": "markdown",
   "metadata": {
    "id": "RGDsbjaUGZbL"
   },
   "source": [
    "## Train"
   ]
  },
  {
   "cell_type": "code",
   "execution_count": 20,
   "metadata": {
    "id": "BvJ1p7C7GY-H"
   },
   "outputs": [],
   "source": [
    "def evaluation_sequence(seq, dictionary):\n",
    "    return [gn_model[token] for token in seq if token in gn_model.vocab]"
   ]
  },
  {
   "cell_type": "code",
   "execution_count": 21,
   "metadata": {
    "id": "OiopdW4zHfAc"
   },
   "outputs": [],
   "source": [
    "def training_sequence(seq, dictionary):\n",
    "    idxs = dictionary.doc2idx(seq)\n",
    "    # remove unknown tokens\n",
    "    if -1 in idxs: idxs.remove(-1)\n",
    "    return torch.tensor(idxs, dtype=torch.long)"
   ]
  },
  {
   "cell_type": "code",
   "execution_count": 22,
   "metadata": {
    "id": "BevdiXzoGe7F"
   },
   "outputs": [],
   "source": [
    "EMBEDDING_DIM, HIDDEN_DIM, VOCAB_SIZE, TARGET_SIZE = 64, 64, len(V), len(V)\n",
    "model = LSTMlm(EMBEDDING_DIM, HIDDEN_DIM, VOCAB_SIZE, TARGET_SIZE)\n",
    "loss_function = nn.NLLLoss(ignore_index=0)\n",
    "optimizer = optim.SGD(model.parameters(), lr=0.1)"
   ]
  },
  {
   "cell_type": "markdown",
   "metadata": {
    "id": "j2oTnS8DlFGS"
   },
   "source": [
    "https://github.com/afflint/inforet/blob/master/thematic-studies/language-models/L10-dialogue-generation.ipynb"
   ]
  },
  {
   "cell_type": "markdown",
   "metadata": {
    "id": "V6blm9jGlc9M"
   },
   "source": [
    "## Model Evaluation"
   ]
  },
  {
   "cell_type": "code",
   "execution_count": 23,
   "metadata": {
    "id": "GdZJeA_fCtfT"
   },
   "outputs": [],
   "source": [
    "def apply_model(pairs):\n",
    "    text_target_answer = []\n",
    "    for text, target in pairs:\n",
    "        doc = sentence_decoration(text)\n",
    "        if use_POS:\n",
    "            pos = [token.pos_ for token in doc]\n",
    "            doc = list(map('_'.join, zip(doc.text.split(), pos)))\n",
    "\n",
    "        s = training_sequence(doc, V)\n",
    "\n",
    "        hypothesis = []\n",
    "        for tensor in model(s):\n",
    "            token_idx = tensor.argmax().item()\n",
    "            hypothesis.append(V[token_idx])\n",
    "\n",
    "        answer = \"\"\n",
    "        for token in hypothesis:\n",
    "            word = token.split('_')[0]\n",
    "            #if word != \"<PAD>\" and word != \"<#S>\" and word != \"<#E>\":\n",
    "            answer += word + \" \"\n",
    "\n",
    "        text_target_answer.append((text, target, answer))\n",
    "\n",
    "    return text_target_answer"
   ]
  },
  {
   "cell_type": "code",
   "execution_count": 24,
   "metadata": {
    "id": "gtJ5Fj_mtlmS"
   },
   "outputs": [],
   "source": [
    "def compute_cos_sim(sentence1, sentence2):\n",
    "    sentence1 = remove_stopwords(sentence1)\n",
    "    sentence2 = remove_stopwords(sentence2)\n",
    "    sentence1 = torch.Tensor(np.array(evaluation_sequence(sentence1.split(), gn_model))).mean(dim=0)\n",
    "    sentence2 = torch.Tensor(np.array(evaluation_sequence(sentence2.split(), gn_model))).mean(dim=0)\n",
    "    output = F.cosine_similarity(sentence1, sentence2, dim=0)\n",
    "    return output"
   ]
  },
  {
   "cell_type": "code",
   "execution_count": 25,
   "metadata": {
    "id": "cmnwmQWuzwD2"
   },
   "outputs": [],
   "source": [
    "import math\n",
    "\n",
    "def evaluate_model(entailment_pairs):\n",
    "    cos_sim = []\n",
    "    n_nan = 0\n",
    "    text_target_answer = apply_model(entailment_pairs)\n",
    "    for tri in text_target_answer:\n",
    "        _, target, answer = tri\n",
    "        output = compute_cos_sim(target,answer)\n",
    "        if (math.isnan(output)):\n",
    "            n_nan += 1\n",
    "        else:\n",
    "            cos_sim.append(output)\n",
    "            \n",
    "    mean_cos_sim = sum(cos_sim) / len(cos_sim)\n",
    "    return mean_cos_sim, n_nan"
   ]
  },
  {
   "cell_type": "code",
   "execution_count": 26,
   "metadata": {
    "id": "or2eBtXM3Z8L"
   },
   "outputs": [
    {
     "name": "stderr",
     "output_type": "stream",
     "text": [
      "100%|██████████████████████████████████████████████████████████████████████████████████| 30/30 [25:00<00:00, 50.02s/it]\n"
     ]
    }
   ],
   "source": [
    "N_EPOCHS = 30\n",
    "SAMPLE_RATE = 5\n",
    "cos_sim_mean = []\n",
    "n_nan = []\n",
    "\n",
    "for idx in tqdm(range(N_EPOCHS)):\n",
    "    for text, hypothesis in training:\n",
    "        model.zero_grad()\n",
    "        sent = training_sequence(text, V)\n",
    "        target = training_sequence(hypothesis, V)\n",
    "        scores = model(sent)\n",
    "        loss = loss_function(scores, target)\n",
    "        loss.backward()\n",
    "        optimizer.step()\n",
    "\n",
    "    if idx % SAMPLE_RATE == 0:\n",
    "        mean_, n_nan_ = evaluate_model(entailment_pairs)\n",
    "        cos_sim_mean.append(mean_)\n",
    "        n_nan.append(n_nan_)"
   ]
  },
  {
   "cell_type": "code",
   "execution_count": 27,
   "metadata": {
    "id": "c_MAN5jU5VMT"
   },
   "outputs": [
    {
     "data": {
      "text/plain": [
       "[<matplotlib.lines.Line2D at 0x1b2e3dfb1f0>]"
      ]
     },
     "execution_count": 27,
     "metadata": {},
     "output_type": "execute_result"
    },
    {
     "data": {
      "image/png": "[encoded data removed]",
      "text/plain": [
       "<Figure size 432x288 with 1 Axes>"
      ]
     },
     "metadata": {
      "needs_background": "light"
     },
     "output_type": "display_data"
    }
   ],
   "source": [
    "import matplotlib.pyplot as plt\n",
    "\n",
    "epochs = range(0, int(N_EPOCHS/SAMPLE_RATE))\n",
    "plt.plot(epochs, cos_sim_mean, 'g', label='Cosine similarity mean')\n",
    "#plt.plot(epochs, n_nan, 'r', label='Missing answers')"
   ]
  },
  {
   "cell_type": "code",
   "execution_count": 28,
   "metadata": {
    "id": "w9_FvFkt9mFd"
   },
   "outputs": [
    {
     "data": {
      "text/plain": [
       "[<matplotlib.lines.Line2D at 0x1b2e3ed1b50>]"
      ]
     },
     "execution_count": 28,
     "metadata": {},
     "output_type": "execute_result"
    },
    {
     "data": {
      "image/png": "[encoded data removed]",
      "text/plain": [
       "<Figure size 432x288 with 1 Axes>"
      ]
     },
     "metadata": {
      "needs_background": "light"
     },
     "output_type": "display_data"
    }
   ],
   "source": [
    "plt.plot(epochs, n_nan, 'r', label='Missing answers')"
   ]
  },
  {
   "cell_type": "code",
   "execution_count": 29,
   "metadata": {
    "id": "4NlJ2Bo0_jkk"
   },
   "outputs": [],
   "source": [
    "text_target_answer = apply_model(entailment_pairs)"
   ]
  },
  {
   "cell_type": "code",
   "execution_count": 32,
   "metadata": {
    "id": "TPEKeX3e8OpK"
   },
   "outputs": [
    {
     "name": "stdout",
     "output_type": "stream",
     "text": [
      "text:  more leg room would have been perfect \n",
      "target:  more leg space \n",
      "answer:  <#S> more leg room <PAD> <PAD> <PAD> <PAD> <PAD> \n"
     ]
    }
   ],
   "source": [
    "i = 11\n",
    "print('text: ', text_target_answer[i][0], '\\ntarget: ', text_target_answer[i][1], '\\nanswer: ', text_target_answer[i][2])"
   ]
  },
  {
   "cell_type": "code",
   "execution_count": null,
   "metadata": {},
   "outputs": [],
   "source": []
  }
 ],
 "metadata": {
  "colab": {
   "collapsed_sections": [],
   "name": "TextualEntailments.ipynb",
   "provenance": []
  },
  "kernelspec": {
   "display_name": "Python 3",
   "language": "python",
   "name": "python3"
  },
  "language_info": {
   "codemirror_mode": {
    "name": "ipython",
    "version": 3
   },
   "file_extension": ".py",
   "mimetype": "text/x-python",
   "name": "python",
   "nbconvert_exporter": "python",
   "pygments_lexer": "ipython3",
   "version": "3.8.5"
  }
 },
 "nbformat": 4,
 "nbformat_minor": 1
}
