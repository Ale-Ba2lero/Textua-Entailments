{
  "cells": [
    {
      "cell_type": "code",
      "execution_count": 1,
      "metadata": {
        "id": "eZoRUdWjw2RW"
      },
      "outputs": [],
      "source": [
        "import numpy as np\n",
        "import pandas as pd\n",
        "from tqdm.notebook import tqdm"
      ]
    },
    {
      "cell_type": "code",
      "execution_count": 2,
      "metadata": {
        "id": "D969ynhxw8OI"
      },
      "outputs": [],
      "source": [
        "import string\n",
        "import nltk\n",
        "import matplotlib.pyplot as plt\n",
        "import regex"
      ]
    },
    {
      "cell_type": "markdown",
      "metadata": {
        "id": "GnRn3hWoxDJd"
      },
      "source": [
        "### Get dataset"
      ]
    },
    {
      "cell_type": "code",
      "execution_count": 3,
      "metadata": {
        "id": "jkDt-E99xFpN"
      },
      "outputs": [],
      "source": [
        "%%capture\n",
        "from datasets import load_dataset\n",
        "dataset = load_dataset('imdb', split='train')"
      ]
    },
    {
      "cell_type": "code",
      "execution_count": 4,
      "metadata": {
        "id": "GFRpAj_lK3oI"
      },
      "outputs": [],
      "source": [
        "text = dataset['text']"
      ]
    },
    {
      "cell_type": "code",
      "execution_count": 5,
      "metadata": {},
      "outputs": [],
      "source": [
        "concat_text = ''\n",
        "\n",
        "for t in text[:10]:\n",
        "    concat_text += ' ' + t"
      ]
    },
    {
      "cell_type": "markdown",
      "metadata": {
        "id": "kLzKFzat0ohp"
      },
      "source": [
        "### Dataset preprocessing"
      ]
    },
    {
      "cell_type": "code",
      "execution_count": 6,
      "metadata": {
        "colab": {
          "base_uri": "https://localhost:8080/"
        },
        "id": "oviEZKurL7OL",
        "outputId": "57776d1f-0b73-4763-de5c-59b2412f1cbd"
      },
      "outputs": [],
      "source": [
        "import nltk\n",
        "#nltk.download('punkt')\n",
        "from nltk.tokenize import word_tokenize\n",
        "tokenized_dataset = word_tokenize(concat_text)"
      ]
    },
    {
      "cell_type": "markdown",
      "metadata": {
        "id": "Ldfc2qgJxNM1"
      },
      "source": [
        "### Word embedding"
      ]
    },
    {
      "cell_type": "code",
      "execution_count": 7,
      "metadata": {},
      "outputs": [],
      "source": [
        "#!pip install gensim"
      ]
    },
    {
      "cell_type": "code",
      "execution_count": 8,
      "metadata": {
        "id": "MheqJtmTxH0y"
      },
      "outputs": [],
      "source": [
        "from gensim.models import Word2Vec\n",
        "from gensim.models.keyedvectors import KeyedVectors\n",
        "import gensim.downloader as api"
      ]
    },
    {
      "cell_type": "code",
      "execution_count": 9,
      "metadata": {
        "colab": {
          "base_uri": "https://localhost:8080/",
          "height": 70
        },
        "id": "X8SupKHDxPKC",
        "outputId": "9c123528-9949-422e-bcfb-f71263f8a52f"
      },
      "outputs": [
        {
          "data": {
            "text/plain": [
              "'SAVE_PATH = \"/content/drive/MyDrive/Colab Notebooks/embedding_model\"\\nembedding_model = KeyedVectors.load(SAVE_PATH)'"
            ]
          },
          "execution_count": 9,
          "metadata": {},
          "output_type": "execute_result"
        }
      ],
      "source": [
        "embedding_model = Word2Vec(vector_size=50, min_count=1)\n",
        "\n",
        "embedding_model.build_vocab([tokenized_dataset])\n",
        "embedding_model.build_vocab([['#S','#E','#P']], update=True)\n",
        "total_examples = embedding_model.corpus_count\n",
        "embedding_model.train([tokenized_dataset], \n",
        "                      total_examples=total_examples, \n",
        "                      epochs=50)\n",
        "\n",
        "\"\"\"\n",
        "#PATH = api.load(\"glove-twitter-25\", return_path=True)\n",
        "PATH = \"/content/drive/MyDrive/Colab Notebooks/gensim-data/glove-twitter-25/glove-twitter-25.gz\"\n",
        "model_glove_twitter = KeyedVectors.load_word2vec_format(PATH)\n",
        "\n",
        "embedding_model.build_vocab([list(model_glove_twitter.vocab.keys())], update=True)\n",
        "embedding_model.build_vocab([['#S','#E','#P']], update=True)\n",
        "embedding_model.intersect_word2vec_format(PATH, lockf=1.0)\n",
        "embedding_model.train(clean_dataset, total_examples=total_examples, epochs=embedding_model.epochs)\n",
        "\n",
        "SAVE_PATH = \"/content/drive/MyDrive/Colab Notebooks/embedding_model\"\n",
        "embedding_model.save(SAVE_PATH)\"\"\"\n",
        "\n",
        "\"\"\"SAVE_PATH = \"/content/drive/MyDrive/Colab Notebooks/embedding_model\"\n",
        "embedding_model = KeyedVectors.load(SAVE_PATH)\"\"\""
      ]
    },
    {
      "cell_type": "markdown",
      "metadata": {
        "id": "rjClgbq5f7KJ"
      },
      "source": [
        "### Create an embedding layer using the trained model"
      ]
    },
    {
      "cell_type": "code",
      "execution_count": 10,
      "metadata": {
        "id": "zSc4WGLIf4Ex"
      },
      "outputs": [],
      "source": [
        "import torch\n",
        "import torch.nn as nn\n",
        "import torch.nn.functional as F\n",
        "import torch.optim as optim"
      ]
    },
    {
      "cell_type": "code",
      "execution_count": 11,
      "metadata": {
        "id": "45u2dayMfnBm"
      },
      "outputs": [],
      "source": [
        "weights = torch.FloatTensor(embedding_model.wv.vectors)\n",
        "num_embeddings, embedding_dim = weights.shape\n",
        "embedding_layer = nn.Embedding.from_pretrained(weights)"
      ]
    },
    {
      "cell_type": "code",
      "execution_count": 12,
      "metadata": {
        "id": "jznZn3-Stbts"
      },
      "outputs": [],
      "source": [
        "word2index = {token: token_index for token_index, token in enumerate(embedding_model.wv.index_to_key)}\n",
        "index2word = {v: k for k, v in word2index.items()}"
      ]
    },
    {
      "cell_type": "markdown",
      "metadata": {
        "id": "gCpj7nsPh-a_"
      },
      "source": [
        "### Create an NGram language model"
      ]
    },
    {
      "cell_type": "code",
      "execution_count": 13,
      "metadata": {
        "id": "as-WAvaLiBMR"
      },
      "outputs": [],
      "source": [
        "class RNN(nn.Module):\n",
        "    def __init__(self, input_size, hidden_size, output_size, embedding_layer, n_layers=1):\n",
        "        super(RNN, self).__init__()\n",
        "        self.input_size = input_size\n",
        "        self.hidden_size = hidden_size\n",
        "        self.output_size = output_size\n",
        "        self.n_layers = n_layers\n",
        "        \n",
        "        self.encoder = embedding_layer\n",
        "        \n",
        "        self.num_embeddings = num_embeddings\n",
        "        self.embedding_dim = embedding_dim\n",
        "\n",
        "        self.gru = nn.GRU(embedding_dim, hidden_size, n_layers, batch_first=True,\n",
        "                          bidirectional=False)\n",
        "        self.decoder = nn.Linear(hidden_size, output_size)\n",
        "        self.output = nn.LogSoftmax(dim=1)\n",
        "    \n",
        "    def forward(self, input_data, hidden):\n",
        "        input_data = self.encoder(input_data.view(1, -1))\n",
        "        output, hidden = self.gru(input_data.view(1, 1, -1), hidden)\n",
        "        output = self.decoder(output.view(1, -1))\n",
        "        output = self.output(output.view(1, -1))\n",
        "        return output, hidden\n",
        "\n",
        "    def init_hidden(self):\n",
        "        return torch.zeros(self.n_layers, 1, self.hidden_size)"
      ]
    },
    {
      "cell_type": "code",
      "execution_count": 14,
      "metadata": {
        "id": "92fr1J63zkmE"
      },
      "outputs": [],
      "source": [
        "model = RNN(input_size=num_embeddings, \n",
        "            hidden_size=64, \n",
        "            output_size=num_embeddings, \n",
        "            embedding_layer=embedding_layer, \n",
        "            n_layers=2)\n",
        "\n",
        "optimizer = torch.optim.Adam(model.parameters(), lr=0.1)\n",
        "#optimizer = optim.SGD(model.parameters(), lr=0.1)\n",
        "loss = nn.NLLLoss()"
      ]
    },
    {
      "cell_type": "code",
      "execution_count": 15,
      "metadata": {
        "id": "8zXL7_FtjgQ1"
      },
      "outputs": [],
      "source": [
        "CONTEXT_SIZE = 2\n",
        "training_set = [\n",
        "    (\n",
        "        [tokenized_dataset[i - j - 1] for j in reversed(range(CONTEXT_SIZE))],\n",
        "        [tokenized_dataset[i]]\n",
        "    )\n",
        "    for i in range(CONTEXT_SIZE, len(tokenized_dataset))\n",
        "]"
      ]
    },
    {
      "cell_type": "code",
      "execution_count": 16,
      "metadata": {
        "id": "Zsf0Sw33t5JX"
      },
      "outputs": [],
      "source": [
        "def prepare(tokens):\n",
        "    return torch.tensor([word2index[w] for w in tokens], dtype=torch.long)"
      ]
    },
    {
      "cell_type": "code",
      "execution_count": 17,
      "metadata": {
        "colab": {
          "base_uri": "https://localhost:8080/"
        },
        "id": "7wIlvU7p5K9U",
        "outputId": "58486b71-1ab2-4a82-93fd-3ccef8df9fe5"
      },
      "outputs": [
        {
          "data": {
            "text/plain": [
              "[(['I', 'rented'], ['I']),\n",
              " (['rented', 'I'], ['AM']),\n",
              " (['I', 'AM'], ['CURIOUS-YELLOW']),\n",
              " (['AM', 'CURIOUS-YELLOW'], ['from']),\n",
              " (['CURIOUS-YELLOW', 'from'], ['my']),\n",
              " (['from', 'my'], ['video']),\n",
              " (['my', 'video'], ['store']),\n",
              " (['video', 'store'], ['because']),\n",
              " (['store', 'because'], ['of']),\n",
              " (['because', 'of'], ['all']),\n",
              " (['of', 'all'], ['the']),\n",
              " (['all', 'the'], ['controversy']),\n",
              " (['the', 'controversy'], ['that']),\n",
              " (['controversy', 'that'], ['surrounded']),\n",
              " (['that', 'surrounded'], ['it']),\n",
              " (['surrounded', 'it'], ['when']),\n",
              " (['it', 'when'], ['it']),\n",
              " (['when', 'it'], ['was']),\n",
              " (['it', 'was'], ['first']),\n",
              " (['was', 'first'], ['released'])]"
            ]
          },
          "execution_count": 17,
          "metadata": {},
          "output_type": "execute_result"
        }
      ],
      "source": [
        "training_set[:20]"
      ]
    },
    {
      "cell_type": "markdown",
      "metadata": {
        "id": "BQDR_53Fu9-l"
      },
      "source": [
        "### Train\n",
        "\n",
        "\n",
        "* Create input and target tensors\n",
        "* Create a zeroed initial hidden state\n",
        "* Read each word input and keep hidden state for next word\n",
        "* Compare final output to target\n",
        "* Back-propagate\n",
        "* Return the output and loss\n"
      ]
    },
    {
      "cell_type": "code",
      "execution_count": 18,
      "metadata": {
        "colab": {
          "base_uri": "https://localhost:8080/",
          "height": 49,
          "referenced_widgets": [
            "134dbc1e478e4c63bf8909ba90709533",
            "32bd34d9f12b4112afc38a4b2c42da0f",
            "790adcf328d64937a59b62cbf0656e2a",
            "aae19d71b6db4ea7b3396bd17803abb3",
            "174eccd180d84dc1b8de7cc73c7d1f9b",
            "1a276fdc791f46b3a2b58b1e3f5f1356",
            "3d10bf6e176746fb90f631d0bedbbf88",
            "14d5ff6dabf545ebacaf5c77b7a5510f",
            "07af289ba3ff43d3ba54c6b7f6ee3fea",
            "5578a9863d734c9bb6165e8bb34bb8a2",
            "af0a02539ec9452885f524600290a44f"
          ]
        },
        "id": "PfbiM8jOu-1H",
        "outputId": "ff5afbde-23da-4a11-d729-9ce9f57f274c"
      },
      "outputs": [
        {
          "data": {
            "application/vnd.jupyter.widget-view+json": {
              "model_id": "7273225ef5d84188b68c9fd8256ddfd0",
              "version_major": 2,
              "version_minor": 0
            },
            "text/plain": [
              "  0%|          | 0/50 [00:00<?, ?it/s]"
            ]
          },
          "metadata": {},
          "output_type": "display_data"
        }
      ],
      "source": [
        "epochs = 50\n",
        "losses = []\n",
        "limit = 20 # just to speed up things in the examples\n",
        "hidden = model.init_hidden()\n",
        "\n",
        "for epoch in tqdm(range(epochs)):\n",
        "    total_loss = 0\n",
        "    for context_words, target_word in training_set[:limit]:\n",
        "        model.zero_grad()\n",
        "        context, target = prepare(context_words), prepare(target_word)\n",
        "        for i in range(context.size()[0]):\n",
        "            output, hidden = model(context[i], hidden)\n",
        "        error = loss(output, target)\n",
        "        error.backward(retain_graph=True)\n",
        "        total_loss += error.item()\n",
        "    losses.append(total_loss)"
      ]
    },
    {
      "cell_type": "code",
      "execution_count": 19,
      "metadata": {
        "id": "zcuwz_lnzhUa"
      },
      "outputs": [],
      "source": [
        "import matplotlib.pyplot as plt"
      ]
    },
    {
      "cell_type": "code",
      "execution_count": 23,
      "metadata": {},
      "outputs": [
        {
          "data": {
            "image/png": "[encoded data removed]",
            "text/plain": [
              "<Figure size 432x288 with 1 Axes>"
            ]
          },
          "metadata": {
            "needs_background": "light"
          },
          "output_type": "display_data"
        }
      ],
      "source": [
        "epochs = range(0, int(50))\n",
        "plt.plot(epochs, losses, label='Loss', marker='o')\n",
        "plt.show()"
      ]
    },
    {
      "cell_type": "code",
      "execution_count": 24,
      "metadata": {
        "id": "dWspESqn2vnb"
      },
      "outputs": [
        {
          "data": {
            "text/plain": [
              "'narcoleptic'"
            ]
          },
          "execution_count": 24,
          "metadata": {},
          "output_type": "execute_result"
        }
      ],
      "source": [
        "prediction, hidden = model(prepare(['#S']), model.init_hidden())\n",
        "index2word[prediction.argmax().item()]"
      ]
    },
    {
      "cell_type": "code",
      "execution_count": 25,
      "metadata": {
        "id": "M0e_ThCy-5Uq"
      },
      "outputs": [],
      "source": [
        "def generate(start='#S', max_len=3):\n",
        "    text = start.split()\n",
        "    for w in range(max_len):\n",
        "        prediction, hidden = model(prepare([text[-1]]), model.init_hidden())\n",
        "        next_word = index2word[np.random.choice(list(index2word.keys()), p=np.exp(prediction.detach().numpy()[0]))]\n",
        "        text.append(next_word)\n",
        "        if next_word == '#E':\n",
        "            break\n",
        "    return text"
      ]
    },
    {
      "cell_type": "code",
      "execution_count": 26,
      "metadata": {
        "colab": {
          "base_uri": "https://localhost:8080/"
        },
        "id": "5wDCajvi_BeN",
        "outputId": "5a7f5d81-323c-4731-e20c-63dfef1530ec"
      },
      "outputs": [
        {
          "name": "stdout",
          "output_type": "stream",
          "text": [
            "['I', 'do', 'not', 'classmates', ';', 'especially', 'admittedly', 'Gershwin', 'Arnaz', 'be', 'wrong', 'certain', 'pages', 'films.', 'extremely', 'TOO', 'America', 'waste', 'going', 'home', 'indeed', 'death', 'standard']\n"
          ]
        }
      ],
      "source": [
        "print(generate(\"I do not \", 20))"
      ]
    },
    {
      "cell_type": "code",
      "execution_count": null,
      "metadata": {
        "id": "P0Oj-ooZlZf0"
      },
      "outputs": [],
      "source": []
    }
  ],
  "metadata": {
    "colab": {
      "collapsed_sections": [],
      "name": "Language_Model.ipynb",
      "provenance": []
    },
    "kernelspec": {
      "display_name": "Python 3",
      "name": "python3"
    },
    "language_info": {
      "codemirror_mode": {
        "name": "ipython",
        "version": 3
      },
      "file_extension": ".py",
      "mimetype": "text/x-python",
      "name": "python",
      "nbconvert_exporter": "python",
      "pygments_lexer": "ipython3",
      "version": "3.9.7"
    },
    "widgets": {
      "application/vnd.jupyter.widget-state+json": {
        "07af289ba3ff43d3ba54c6b7f6ee3fea": {
          "model_module": "@jupyter-widgets/base",
          "model_module_version": "1.2.0",
          "model_name": "LayoutModel",
          "state": {
            "_model_module": "@jupyter-widgets/base",
            "_model_module_version": "1.2.0",
            "_model_name": "LayoutModel",
            "_view_count": null,
            "_view_module": "@jupyter-widgets/base",
            "_view_module_version": "1.2.0",
            "_view_name": "LayoutView",
            "align_content": null,
            "align_items": null,
            "align_self": null,
            "border": null,
            "bottom": null,
            "display": null,
            "flex": null,
            "flex_flow": null,
            "grid_area": null,
            "grid_auto_columns": null,
            "grid_auto_flow": null,
            "grid_auto_rows": null,
            "grid_column": null,
            "grid_gap": null,
            "grid_row": null,
            "grid_template_areas": null,
            "grid_template_columns": null,
            "grid_template_rows": null,
            "height": null,
            "justify_content": null,
            "justify_items": null,
            "left": null,
            "margin": null,
            "max_height": null,
            "max_width": null,
            "min_height": null,
            "min_width": null,
            "object_fit": null,
            "object_position": null,
            "order": null,
            "overflow": null,
            "overflow_x": null,
            "overflow_y": null,
            "padding": null,
            "right": null,
            "top": null,
            "visibility": null,
            "width": null
          }
        },
        "134dbc1e478e4c63bf8909ba90709533": {
          "model_module": "@jupyter-widgets/controls",
          "model_module_version": "1.5.0",
          "model_name": "HBoxModel",
          "state": {
            "_dom_classes": [],
            "_model_module": "@jupyter-widgets/controls",
            "_model_module_version": "1.5.0",
            "_model_name": "HBoxModel",
            "_view_count": null,
            "_view_module": "@jupyter-widgets/controls",
            "_view_module_version": "1.5.0",
            "_view_name": "HBoxView",
            "box_style": "",
            "children": [
              "IPY_MODEL_790adcf328d64937a59b62cbf0656e2a",
              "IPY_MODEL_aae19d71b6db4ea7b3396bd17803abb3",
              "IPY_MODEL_174eccd180d84dc1b8de7cc73c7d1f9b"
            ],
            "layout": "IPY_MODEL_32bd34d9f12b4112afc38a4b2c42da0f"
          }
        },
        "14d5ff6dabf545ebacaf5c77b7a5510f": {
          "model_module": "@jupyter-widgets/controls",
          "model_module_version": "1.5.0",
          "model_name": "ProgressStyleModel",
          "state": {
            "_model_module": "@jupyter-widgets/controls",
            "_model_module_version": "1.5.0",
            "_model_name": "ProgressStyleModel",
            "_view_count": null,
            "_view_module": "@jupyter-widgets/base",
            "_view_module_version": "1.2.0",
            "_view_name": "StyleView",
            "bar_color": null,
            "description_width": ""
          }
        },
        "174eccd180d84dc1b8de7cc73c7d1f9b": {
          "model_module": "@jupyter-widgets/controls",
          "model_module_version": "1.5.0",
          "model_name": "HTMLModel",
          "state": {
            "_dom_classes": [],
            "_model_module": "@jupyter-widgets/controls",
            "_model_module_version": "1.5.0",
            "_model_name": "HTMLModel",
            "_view_count": null,
            "_view_module": "@jupyter-widgets/controls",
            "_view_module_version": "1.5.0",
            "_view_name": "HTMLView",
            "description": "",
            "description_tooltip": null,
            "layout": "IPY_MODEL_af0a02539ec9452885f524600290a44f",
            "placeholder": "​",
            "style": "IPY_MODEL_5578a9863d734c9bb6165e8bb34bb8a2",
            "value": " 5/5 [1:09:22&lt;00:00, 1035.97s/it]"
          }
        },
        "1a276fdc791f46b3a2b58b1e3f5f1356": {
          "model_module": "@jupyter-widgets/controls",
          "model_module_version": "1.5.0",
          "model_name": "DescriptionStyleModel",
          "state": {
            "_model_module": "@jupyter-widgets/controls",
            "_model_module_version": "1.5.0",
            "_model_name": "DescriptionStyleModel",
            "_view_count": null,
            "_view_module": "@jupyter-widgets/base",
            "_view_module_version": "1.2.0",
            "_view_name": "StyleView",
            "description_width": ""
          }
        },
        "32bd34d9f12b4112afc38a4b2c42da0f": {
          "model_module": "@jupyter-widgets/base",
          "model_module_version": "1.2.0",
          "model_name": "LayoutModel",
          "state": {
            "_model_module": "@jupyter-widgets/base",
            "_model_module_version": "1.2.0",
            "_model_name": "LayoutModel",
            "_view_count": null,
            "_view_module": "@jupyter-widgets/base",
            "_view_module_version": "1.2.0",
            "_view_name": "LayoutView",
            "align_content": null,
            "align_items": null,
            "align_self": null,
            "border": null,
            "bottom": null,
            "display": null,
            "flex": null,
            "flex_flow": null,
            "grid_area": null,
            "grid_auto_columns": null,
            "grid_auto_flow": null,
            "grid_auto_rows": null,
            "grid_column": null,
            "grid_gap": null,
            "grid_row": null,
            "grid_template_areas": null,
            "grid_template_columns": null,
            "grid_template_rows": null,
            "height": null,
            "justify_content": null,
            "justify_items": null,
            "left": null,
            "margin": null,
            "max_height": null,
            "max_width": null,
            "min_height": null,
            "min_width": null,
            "object_fit": null,
            "object_position": null,
            "order": null,
            "overflow": null,
            "overflow_x": null,
            "overflow_y": null,
            "padding": null,
            "right": null,
            "top": null,
            "visibility": null,
            "width": null
          }
        },
        "3d10bf6e176746fb90f631d0bedbbf88": {
          "model_module": "@jupyter-widgets/base",
          "model_module_version": "1.2.0",
          "model_name": "LayoutModel",
          "state": {
            "_model_module": "@jupyter-widgets/base",
            "_model_module_version": "1.2.0",
            "_model_name": "LayoutModel",
            "_view_count": null,
            "_view_module": "@jupyter-widgets/base",
            "_view_module_version": "1.2.0",
            "_view_name": "LayoutView",
            "align_content": null,
            "align_items": null,
            "align_self": null,
            "border": null,
            "bottom": null,
            "display": null,
            "flex": null,
            "flex_flow": null,
            "grid_area": null,
            "grid_auto_columns": null,
            "grid_auto_flow": null,
            "grid_auto_rows": null,
            "grid_column": null,
            "grid_gap": null,
            "grid_row": null,
            "grid_template_areas": null,
            "grid_template_columns": null,
            "grid_template_rows": null,
            "height": null,
            "justify_content": null,
            "justify_items": null,
            "left": null,
            "margin": null,
            "max_height": null,
            "max_width": null,
            "min_height": null,
            "min_width": null,
            "object_fit": null,
            "object_position": null,
            "order": null,
            "overflow": null,
            "overflow_x": null,
            "overflow_y": null,
            "padding": null,
            "right": null,
            "top": null,
            "visibility": null,
            "width": null
          }
        },
        "5578a9863d734c9bb6165e8bb34bb8a2": {
          "model_module": "@jupyter-widgets/controls",
          "model_module_version": "1.5.0",
          "model_name": "DescriptionStyleModel",
          "state": {
            "_model_module": "@jupyter-widgets/controls",
            "_model_module_version": "1.5.0",
            "_model_name": "DescriptionStyleModel",
            "_view_count": null,
            "_view_module": "@jupyter-widgets/base",
            "_view_module_version": "1.2.0",
            "_view_name": "StyleView",
            "description_width": ""
          }
        },
        "790adcf328d64937a59b62cbf0656e2a": {
          "model_module": "@jupyter-widgets/controls",
          "model_module_version": "1.5.0",
          "model_name": "HTMLModel",
          "state": {
            "_dom_classes": [],
            "_model_module": "@jupyter-widgets/controls",
            "_model_module_version": "1.5.0",
            "_model_name": "HTMLModel",
            "_view_count": null,
            "_view_module": "@jupyter-widgets/controls",
            "_view_module_version": "1.5.0",
            "_view_name": "HTMLView",
            "description": "",
            "description_tooltip": null,
            "layout": "IPY_MODEL_3d10bf6e176746fb90f631d0bedbbf88",
            "placeholder": "​",
            "style": "IPY_MODEL_1a276fdc791f46b3a2b58b1e3f5f1356",
            "value": "100%"
          }
        },
        "aae19d71b6db4ea7b3396bd17803abb3": {
          "model_module": "@jupyter-widgets/controls",
          "model_module_version": "1.5.0",
          "model_name": "FloatProgressModel",
          "state": {
            "_dom_classes": [],
            "_model_module": "@jupyter-widgets/controls",
            "_model_module_version": "1.5.0",
            "_model_name": "FloatProgressModel",
            "_view_count": null,
            "_view_module": "@jupyter-widgets/controls",
            "_view_module_version": "1.5.0",
            "_view_name": "ProgressView",
            "bar_style": "success",
            "description": "",
            "description_tooltip": null,
            "layout": "IPY_MODEL_07af289ba3ff43d3ba54c6b7f6ee3fea",
            "max": 5,
            "min": 0,
            "orientation": "horizontal",
            "style": "IPY_MODEL_14d5ff6dabf545ebacaf5c77b7a5510f",
            "value": 5
          }
        },
        "af0a02539ec9452885f524600290a44f": {
          "model_module": "@jupyter-widgets/base",
          "model_module_version": "1.2.0",
          "model_name": "LayoutModel",
          "state": {
            "_model_module": "@jupyter-widgets/base",
            "_model_module_version": "1.2.0",
            "_model_name": "LayoutModel",
            "_view_count": null,
            "_view_module": "@jupyter-widgets/base",
            "_view_module_version": "1.2.0",
            "_view_name": "LayoutView",
            "align_content": null,
            "align_items": null,
            "align_self": null,
            "border": null,
            "bottom": null,
            "display": null,
            "flex": null,
            "flex_flow": null,
            "grid_area": null,
            "grid_auto_columns": null,
            "grid_auto_flow": null,
            "grid_auto_rows": null,
            "grid_column": null,
            "grid_gap": null,
            "grid_row": null,
            "grid_template_areas": null,
            "grid_template_columns": null,
            "grid_template_rows": null,
            "height": null,
            "justify_content": null,
            "justify_items": null,
            "left": null,
            "margin": null,
            "max_height": null,
            "max_width": null,
            "min_height": null,
            "min_width": null,
            "object_fit": null,
            "object_position": null,
            "order": null,
            "overflow": null,
            "overflow_x": null,
            "overflow_y": null,
            "padding": null,
            "right": null,
            "top": null,
            "visibility": null,
            "width": null
          }
        }
      }
    }
  },
  "nbformat": 4,
  "nbformat_minor": 0
}
